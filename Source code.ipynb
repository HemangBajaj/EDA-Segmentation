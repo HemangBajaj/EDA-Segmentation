{
 "cells": [
  {
   "cell_type": "code",
   "execution_count": 1,
   "metadata": {},
   "outputs": [],
   "source": [
    "import pandas as pd \n",
    "import numpy as np\n",
    "import matplotlib.pyplot as plt\n",
    "import seaborn as sns "
   ]
  },
  {
   "cell_type": "code",
   "execution_count": 2,
   "metadata": {},
   "outputs": [],
   "source": [
    "df = pd.read_csv('transaction_data.csv')"
   ]
  },
  {
   "cell_type": "code",
   "execution_count": 3,
   "metadata": {},
   "outputs": [
    {
     "data": {
      "text/html": [
       "<div>\n",
       "<style scoped>\n",
       "    .dataframe tbody tr th:only-of-type {\n",
       "        vertical-align: middle;\n",
       "    }\n",
       "\n",
       "    .dataframe tbody tr th {\n",
       "        vertical-align: top;\n",
       "    }\n",
       "\n",
       "    .dataframe thead th {\n",
       "        text-align: right;\n",
       "    }\n",
       "</style>\n",
       "<table border=\"1\" class=\"dataframe\">\n",
       "  <thead>\n",
       "    <tr style=\"text-align: right;\">\n",
       "      <th></th>\n",
       "      <th>UserId</th>\n",
       "      <th>TransactionId</th>\n",
       "      <th>TransactionTime</th>\n",
       "      <th>ItemCode</th>\n",
       "      <th>ItemDescription</th>\n",
       "      <th>NumberOfItemsPurchased</th>\n",
       "      <th>CostPerItem</th>\n",
       "      <th>Country</th>\n",
       "    </tr>\n",
       "  </thead>\n",
       "  <tbody>\n",
       "    <tr>\n",
       "      <td>0</td>\n",
       "      <td>278166</td>\n",
       "      <td>6355745</td>\n",
       "      <td>Sat Feb 02 12:50:00 IST 2019</td>\n",
       "      <td>465549</td>\n",
       "      <td>FAMILY ALBUM WHITE PICTURE FRAME</td>\n",
       "      <td>6</td>\n",
       "      <td>11.73</td>\n",
       "      <td>United Kingdom</td>\n",
       "    </tr>\n",
       "    <tr>\n",
       "      <td>1</td>\n",
       "      <td>337701</td>\n",
       "      <td>6283376</td>\n",
       "      <td>Wed Dec 26 09:06:00 IST 2018</td>\n",
       "      <td>482370</td>\n",
       "      <td>LONDON BUS COFFEE MUG</td>\n",
       "      <td>3</td>\n",
       "      <td>3.52</td>\n",
       "      <td>United Kingdom</td>\n",
       "    </tr>\n",
       "    <tr>\n",
       "      <td>2</td>\n",
       "      <td>267099</td>\n",
       "      <td>6385599</td>\n",
       "      <td>Fri Feb 15 09:45:00 IST 2019</td>\n",
       "      <td>490728</td>\n",
       "      <td>SET 12 COLOUR PENCILS DOLLY GIRL</td>\n",
       "      <td>72</td>\n",
       "      <td>0.90</td>\n",
       "      <td>France</td>\n",
       "    </tr>\n",
       "    <tr>\n",
       "      <td>3</td>\n",
       "      <td>380478</td>\n",
       "      <td>6044973</td>\n",
       "      <td>Fri Jun 22 07:14:00 IST 2018</td>\n",
       "      <td>459186</td>\n",
       "      <td>UNION JACK FLAG LUGGAGE TAG</td>\n",
       "      <td>3</td>\n",
       "      <td>1.73</td>\n",
       "      <td>United Kingdom</td>\n",
       "    </tr>\n",
       "    <tr>\n",
       "      <td>4</td>\n",
       "      <td>-1</td>\n",
       "      <td>6143225</td>\n",
       "      <td>Mon Sep 10 11:58:00 IST 2018</td>\n",
       "      <td>1733592</td>\n",
       "      <td>WASHROOM METAL SIGN</td>\n",
       "      <td>3</td>\n",
       "      <td>3.40</td>\n",
       "      <td>United Kingdom</td>\n",
       "    </tr>\n",
       "  </tbody>\n",
       "</table>\n",
       "</div>"
      ],
      "text/plain": [
       "   UserId  TransactionId               TransactionTime  ItemCode  \\\n",
       "0  278166        6355745  Sat Feb 02 12:50:00 IST 2019    465549   \n",
       "1  337701        6283376  Wed Dec 26 09:06:00 IST 2018    482370   \n",
       "2  267099        6385599  Fri Feb 15 09:45:00 IST 2019    490728   \n",
       "3  380478        6044973  Fri Jun 22 07:14:00 IST 2018    459186   \n",
       "4      -1        6143225  Mon Sep 10 11:58:00 IST 2018   1733592   \n",
       "\n",
       "                     ItemDescription  NumberOfItemsPurchased  CostPerItem  \\\n",
       "0   FAMILY ALBUM WHITE PICTURE FRAME                       6        11.73   \n",
       "1              LONDON BUS COFFEE MUG                       3         3.52   \n",
       "2  SET 12 COLOUR PENCILS DOLLY GIRL                       72         0.90   \n",
       "3        UNION JACK FLAG LUGGAGE TAG                       3         1.73   \n",
       "4                WASHROOM METAL SIGN                       3         3.40   \n",
       "\n",
       "          Country  \n",
       "0  United Kingdom  \n",
       "1  United Kingdom  \n",
       "2          France  \n",
       "3  United Kingdom  \n",
       "4  United Kingdom  "
      ]
     },
     "execution_count": 3,
     "metadata": {},
     "output_type": "execute_result"
    }
   ],
   "source": [
    "df.head()"
   ]
  },
  {
   "cell_type": "code",
   "execution_count": 4,
   "metadata": {},
   "outputs": [
    {
     "name": "stdout",
     "output_type": "stream",
     "text": [
      "<class 'pandas.core.frame.DataFrame'>\n",
      "RangeIndex: 1083818 entries, 0 to 1083817\n",
      "Data columns (total 8 columns):\n",
      "UserId                    1083818 non-null int64\n",
      "TransactionId             1083818 non-null int64\n",
      "TransactionTime           1083818 non-null object\n",
      "ItemCode                  1083818 non-null int64\n",
      "ItemDescription           1080910 non-null object\n",
      "NumberOfItemsPurchased    1083818 non-null int64\n",
      "CostPerItem               1083818 non-null float64\n",
      "Country                   1083818 non-null object\n",
      "dtypes: float64(1), int64(4), object(3)\n",
      "memory usage: 53.7+ MB\n"
     ]
    }
   ],
   "source": [
    "df.info()"
   ]
  },
  {
   "cell_type": "code",
   "execution_count": 5,
   "metadata": {},
   "outputs": [],
   "source": [
    "# change description - UPPER case to LOWER case\n",
    "df['ItemDescription']=df.ItemDescription.str.lower()"
   ]
  },
  {
   "cell_type": "code",
   "execution_count": 6,
   "metadata": {},
   "outputs": [
    {
     "data": {
      "text/html": [
       "<div>\n",
       "<style scoped>\n",
       "    .dataframe tbody tr th:only-of-type {\n",
       "        vertical-align: middle;\n",
       "    }\n",
       "\n",
       "    .dataframe tbody tr th {\n",
       "        vertical-align: top;\n",
       "    }\n",
       "\n",
       "    .dataframe thead th {\n",
       "        text-align: right;\n",
       "    }\n",
       "</style>\n",
       "<table border=\"1\" class=\"dataframe\">\n",
       "  <thead>\n",
       "    <tr style=\"text-align: right;\">\n",
       "      <th></th>\n",
       "      <th>UserId</th>\n",
       "      <th>TransactionId</th>\n",
       "      <th>TransactionTime</th>\n",
       "      <th>ItemCode</th>\n",
       "      <th>ItemDescription</th>\n",
       "      <th>NumberOfItemsPurchased</th>\n",
       "      <th>CostPerItem</th>\n",
       "      <th>Country</th>\n",
       "    </tr>\n",
       "  </thead>\n",
       "  <tbody>\n",
       "    <tr>\n",
       "      <td>0</td>\n",
       "      <td>278166</td>\n",
       "      <td>6355745</td>\n",
       "      <td>Sat Feb 02 12:50:00 IST 2019</td>\n",
       "      <td>465549</td>\n",
       "      <td>family album white picture frame</td>\n",
       "      <td>6</td>\n",
       "      <td>11.73</td>\n",
       "      <td>United Kingdom</td>\n",
       "    </tr>\n",
       "    <tr>\n",
       "      <td>1</td>\n",
       "      <td>337701</td>\n",
       "      <td>6283376</td>\n",
       "      <td>Wed Dec 26 09:06:00 IST 2018</td>\n",
       "      <td>482370</td>\n",
       "      <td>london bus coffee mug</td>\n",
       "      <td>3</td>\n",
       "      <td>3.52</td>\n",
       "      <td>United Kingdom</td>\n",
       "    </tr>\n",
       "    <tr>\n",
       "      <td>2</td>\n",
       "      <td>267099</td>\n",
       "      <td>6385599</td>\n",
       "      <td>Fri Feb 15 09:45:00 IST 2019</td>\n",
       "      <td>490728</td>\n",
       "      <td>set 12 colour pencils dolly girl</td>\n",
       "      <td>72</td>\n",
       "      <td>0.90</td>\n",
       "      <td>France</td>\n",
       "    </tr>\n",
       "    <tr>\n",
       "      <td>3</td>\n",
       "      <td>380478</td>\n",
       "      <td>6044973</td>\n",
       "      <td>Fri Jun 22 07:14:00 IST 2018</td>\n",
       "      <td>459186</td>\n",
       "      <td>union jack flag luggage tag</td>\n",
       "      <td>3</td>\n",
       "      <td>1.73</td>\n",
       "      <td>United Kingdom</td>\n",
       "    </tr>\n",
       "    <tr>\n",
       "      <td>4</td>\n",
       "      <td>-1</td>\n",
       "      <td>6143225</td>\n",
       "      <td>Mon Sep 10 11:58:00 IST 2018</td>\n",
       "      <td>1733592</td>\n",
       "      <td>washroom metal sign</td>\n",
       "      <td>3</td>\n",
       "      <td>3.40</td>\n",
       "      <td>United Kingdom</td>\n",
       "    </tr>\n",
       "  </tbody>\n",
       "</table>\n",
       "</div>"
      ],
      "text/plain": [
       "   UserId  TransactionId               TransactionTime  ItemCode  \\\n",
       "0  278166        6355745  Sat Feb 02 12:50:00 IST 2019    465549   \n",
       "1  337701        6283376  Wed Dec 26 09:06:00 IST 2018    482370   \n",
       "2  267099        6385599  Fri Feb 15 09:45:00 IST 2019    490728   \n",
       "3  380478        6044973  Fri Jun 22 07:14:00 IST 2018    459186   \n",
       "4      -1        6143225  Mon Sep 10 11:58:00 IST 2018   1733592   \n",
       "\n",
       "                     ItemDescription  NumberOfItemsPurchased  CostPerItem  \\\n",
       "0   family album white picture frame                       6        11.73   \n",
       "1              london bus coffee mug                       3         3.52   \n",
       "2  set 12 colour pencils dolly girl                       72         0.90   \n",
       "3        union jack flag luggage tag                       3         1.73   \n",
       "4                washroom metal sign                       3         3.40   \n",
       "\n",
       "          Country  \n",
       "0  United Kingdom  \n",
       "1  United Kingdom  \n",
       "2          France  \n",
       "3  United Kingdom  \n",
       "4  United Kingdom  "
      ]
     },
     "execution_count": 6,
     "metadata": {},
     "output_type": "execute_result"
    }
   ],
   "source": [
    "df.head()"
   ]
  },
  {
   "cell_type": "code",
   "execution_count": 7,
   "metadata": {},
   "outputs": [],
   "source": [
    "#Data Cleaning\n",
    "# check out the missing values\n",
    "df=df.replace(-1,np.nan,regex=True)"
   ]
  },
  {
   "cell_type": "code",
   "execution_count": 8,
   "metadata": {},
   "outputs": [],
   "source": [
    "#Remove Quantity with negative values\n",
    "df.loc[df['NumberOfItemsPurchased']<0,'NumberOfItemsPurchased']=np.nan"
   ]
  },
  {
   "cell_type": "code",
   "execution_count": 9,
   "metadata": {},
   "outputs": [
    {
     "data": {
      "text/plain": [
       "UserId                    270160\n",
       "NumberOfItemsPurchased     21248\n",
       "ItemCode                    5592\n",
       "ItemDescription             2908\n",
       "Country                        0\n",
       "CostPerItem                    0\n",
       "TransactionTime                0\n",
       "TransactionId                  0\n",
       "dtype: int64"
      ]
     },
     "execution_count": 9,
     "metadata": {},
     "output_type": "execute_result"
    }
   ],
   "source": [
    "# check missing values for each column \n",
    "df.isnull().sum().sort_values(ascending=False)"
   ]
  },
  {
   "cell_type": "code",
   "execution_count": 10,
   "metadata": {},
   "outputs": [],
   "source": [
    "# check out the rows with missing values\n",
    "X=df[df.isnull().any(axis=1)].head()"
   ]
  },
  {
   "cell_type": "code",
   "execution_count": 11,
   "metadata": {},
   "outputs": [
    {
     "data": {
      "text/html": [
       "<div>\n",
       "<style scoped>\n",
       "    .dataframe tbody tr th:only-of-type {\n",
       "        vertical-align: middle;\n",
       "    }\n",
       "\n",
       "    .dataframe tbody tr th {\n",
       "        vertical-align: top;\n",
       "    }\n",
       "\n",
       "    .dataframe thead th {\n",
       "        text-align: right;\n",
       "    }\n",
       "</style>\n",
       "<table border=\"1\" class=\"dataframe\">\n",
       "  <thead>\n",
       "    <tr style=\"text-align: right;\">\n",
       "      <th></th>\n",
       "      <th>UserId</th>\n",
       "      <th>TransactionId</th>\n",
       "      <th>TransactionTime</th>\n",
       "      <th>ItemCode</th>\n",
       "      <th>ItemDescription</th>\n",
       "      <th>NumberOfItemsPurchased</th>\n",
       "      <th>CostPerItem</th>\n",
       "      <th>Country</th>\n",
       "    </tr>\n",
       "  </thead>\n",
       "  <tbody>\n",
       "    <tr>\n",
       "      <td>4</td>\n",
       "      <td>NaN</td>\n",
       "      <td>6143225</td>\n",
       "      <td>Mon Sep 10 11:58:00 IST 2018</td>\n",
       "      <td>1733592.0</td>\n",
       "      <td>washroom metal sign</td>\n",
       "      <td>3.0</td>\n",
       "      <td>3.40</td>\n",
       "      <td>United Kingdom</td>\n",
       "    </tr>\n",
       "    <tr>\n",
       "      <td>7</td>\n",
       "      <td>NaN</td>\n",
       "      <td>6143225</td>\n",
       "      <td>Mon Sep 10 11:58:00 IST 2018</td>\n",
       "      <td>447867.0</td>\n",
       "      <td>skulls writing set</td>\n",
       "      <td>120.0</td>\n",
       "      <td>1.15</td>\n",
       "      <td>United Kingdom</td>\n",
       "    </tr>\n",
       "    <tr>\n",
       "      <td>13</td>\n",
       "      <td>NaN</td>\n",
       "      <td>6058140</td>\n",
       "      <td>Mon Jul 02 07:33:00 IST 2018</td>\n",
       "      <td>435225.0</td>\n",
       "      <td>lunch bag red retrospot</td>\n",
       "      <td>60.0</td>\n",
       "      <td>6.85</td>\n",
       "      <td>United Kingdom</td>\n",
       "    </tr>\n",
       "    <tr>\n",
       "      <td>17</td>\n",
       "      <td>NaN</td>\n",
       "      <td>6288843</td>\n",
       "      <td>Sun Dec 30 12:58:00 IST 2018</td>\n",
       "      <td>489594.0</td>\n",
       "      <td>vintage christmas tablecloth</td>\n",
       "      <td>3.0</td>\n",
       "      <td>34.45</td>\n",
       "      <td>United Kingdom</td>\n",
       "    </tr>\n",
       "    <tr>\n",
       "      <td>23</td>\n",
       "      <td>NaN</td>\n",
       "      <td>6388019</td>\n",
       "      <td>Sat Feb 16 13:24:00 IST 2019</td>\n",
       "      <td>490329.0</td>\n",
       "      <td>roll wrap vintage christmas</td>\n",
       "      <td>30.0</td>\n",
       "      <td>3.40</td>\n",
       "      <td>United Kingdom</td>\n",
       "    </tr>\n",
       "  </tbody>\n",
       "</table>\n",
       "</div>"
      ],
      "text/plain": [
       "    UserId  TransactionId               TransactionTime   ItemCode  \\\n",
       "4      NaN        6143225  Mon Sep 10 11:58:00 IST 2018  1733592.0   \n",
       "7      NaN        6143225  Mon Sep 10 11:58:00 IST 2018   447867.0   \n",
       "13     NaN        6058140  Mon Jul 02 07:33:00 IST 2018   435225.0   \n",
       "17     NaN        6288843  Sun Dec 30 12:58:00 IST 2018   489594.0   \n",
       "23     NaN        6388019  Sat Feb 16 13:24:00 IST 2019   490329.0   \n",
       "\n",
       "                 ItemDescription  NumberOfItemsPurchased  CostPerItem  \\\n",
       "4            washroom metal sign                     3.0         3.40   \n",
       "7            skulls writing set                    120.0         1.15   \n",
       "13       lunch bag red retrospot                    60.0         6.85   \n",
       "17  vintage christmas tablecloth                     3.0        34.45   \n",
       "23   roll wrap vintage christmas                    30.0         3.40   \n",
       "\n",
       "           Country  \n",
       "4   United Kingdom  \n",
       "7   United Kingdom  \n",
       "13  United Kingdom  \n",
       "17  United Kingdom  \n",
       "23  United Kingdom  "
      ]
     },
     "execution_count": 11,
     "metadata": {},
     "output_type": "execute_result"
    }
   ],
   "source": [
    "X"
   ]
  },
  {
   "cell_type": "code",
   "execution_count": 12,
   "metadata": {},
   "outputs": [],
   "source": [
    "#Remove missing values\n",
    "\n",
    "# df_new without missing values\n",
    "df_new = df.dropna()"
   ]
  },
  {
   "cell_type": "code",
   "execution_count": 13,
   "metadata": {},
   "outputs": [
    {
     "data": {
      "text/plain": [
       "Country                   0\n",
       "CostPerItem               0\n",
       "NumberOfItemsPurchased    0\n",
       "ItemDescription           0\n",
       "ItemCode                  0\n",
       "TransactionTime           0\n",
       "TransactionId             0\n",
       "UserId                    0\n",
       "dtype: int64"
      ]
     },
     "execution_count": 13,
     "metadata": {},
     "output_type": "execute_result"
    }
   ],
   "source": [
    "# check missing values for each column \n",
    "df_new.isnull().sum().sort_values(ascending=False)"
   ]
  },
  {
   "cell_type": "code",
   "execution_count": 14,
   "metadata": {},
   "outputs": [
    {
     "name": "stdout",
     "output_type": "stream",
     "text": [
      "<class 'pandas.core.frame.DataFrame'>\n",
      "Int64Index: 793006 entries, 0 to 1083817\n",
      "Data columns (total 8 columns):\n",
      "UserId                    793006 non-null float64\n",
      "TransactionId             793006 non-null int64\n",
      "TransactionTime           793006 non-null object\n",
      "ItemCode                  793006 non-null float64\n",
      "ItemDescription           793006 non-null object\n",
      "NumberOfItemsPurchased    793006 non-null float64\n",
      "CostPerItem               793006 non-null float64\n",
      "Country                   793006 non-null object\n",
      "dtypes: float64(4), int64(1), object(3)\n",
      "memory usage: 45.4+ MB\n"
     ]
    }
   ],
   "source": [
    "df_new.info()"
   ]
  },
  {
   "cell_type": "code",
   "execution_count": 15,
   "metadata": {},
   "outputs": [
    {
     "name": "stderr",
     "output_type": "stream",
     "text": [
      "D:\\pyt\\lib\\site-packages\\ipykernel_launcher.py:2: SettingWithCopyWarning: \n",
      "A value is trying to be set on a copy of a slice from a DataFrame.\n",
      "Try using .loc[row_indexer,col_indexer] = value instead\n",
      "\n",
      "See the caveats in the documentation: http://pandas.pydata.org/pandas-docs/stable/user_guide/indexing.html#returning-a-view-versus-a-copy\n",
      "  \n"
     ]
    }
   ],
   "source": [
    "# change columns type - String to Int type \n",
    "df_new['UserId'] = df_new['UserId'].astype('int64')"
   ]
  },
  {
   "cell_type": "code",
   "execution_count": 16,
   "metadata": {},
   "outputs": [
    {
     "name": "stdout",
     "output_type": "stream",
     "text": [
      "<class 'pandas.core.frame.DataFrame'>\n",
      "Int64Index: 793006 entries, 0 to 1083817\n",
      "Data columns (total 8 columns):\n",
      "UserId                    793006 non-null int64\n",
      "TransactionId             793006 non-null int64\n",
      "TransactionTime           793006 non-null object\n",
      "ItemCode                  793006 non-null float64\n",
      "ItemDescription           793006 non-null object\n",
      "NumberOfItemsPurchased    793006 non-null float64\n",
      "CostPerItem               793006 non-null float64\n",
      "Country                   793006 non-null object\n",
      "dtypes: float64(3), int64(2), object(3)\n",
      "memory usage: 45.4+ MB\n"
     ]
    }
   ],
   "source": [
    "df_new.info()"
   ]
  },
  {
   "cell_type": "code",
   "execution_count": 17,
   "metadata": {},
   "outputs": [
    {
     "data": {
      "text/html": [
       "<div>\n",
       "<style scoped>\n",
       "    .dataframe tbody tr th:only-of-type {\n",
       "        vertical-align: middle;\n",
       "    }\n",
       "\n",
       "    .dataframe tbody tr th {\n",
       "        vertical-align: top;\n",
       "    }\n",
       "\n",
       "    .dataframe thead th {\n",
       "        text-align: right;\n",
       "    }\n",
       "</style>\n",
       "<table border=\"1\" class=\"dataframe\">\n",
       "  <thead>\n",
       "    <tr style=\"text-align: right;\">\n",
       "      <th></th>\n",
       "      <th>UserId</th>\n",
       "      <th>TransactionId</th>\n",
       "      <th>ItemCode</th>\n",
       "      <th>NumberOfItemsPurchased</th>\n",
       "      <th>CostPerItem</th>\n",
       "    </tr>\n",
       "  </thead>\n",
       "  <tbody>\n",
       "    <tr>\n",
       "      <td>count</td>\n",
       "      <td>793006.00</td>\n",
       "      <td>793006.00</td>\n",
       "      <td>793006.00</td>\n",
       "      <td>793006.00</td>\n",
       "      <td>793006.00</td>\n",
       "    </tr>\n",
       "    <tr>\n",
       "      <td>mean</td>\n",
       "      <td>321328.57</td>\n",
       "      <td>6166807.72</td>\n",
       "      <td>645810.04</td>\n",
       "      <td>39.13</td>\n",
       "      <td>8.26</td>\n",
       "    </tr>\n",
       "    <tr>\n",
       "      <td>std</td>\n",
       "      <td>35905.64</td>\n",
       "      <td>144168.77</td>\n",
       "      <td>432821.20</td>\n",
       "      <td>542.11</td>\n",
       "      <td>2693.86</td>\n",
       "    </tr>\n",
       "    <tr>\n",
       "      <td>min</td>\n",
       "      <td>259266.00</td>\n",
       "      <td>5900015.00</td>\n",
       "      <td>42.00</td>\n",
       "      <td>3.00</td>\n",
       "      <td>0.00</td>\n",
       "    </tr>\n",
       "    <tr>\n",
       "      <td>25%</td>\n",
       "      <td>293475.00</td>\n",
       "      <td>6041585.00</td>\n",
       "      <td>462567.00</td>\n",
       "      <td>6.00</td>\n",
       "      <td>1.73</td>\n",
       "    </tr>\n",
       "    <tr>\n",
       "      <td>50%</td>\n",
       "      <td>318339.00</td>\n",
       "      <td>6180823.00</td>\n",
       "      <td>475986.00</td>\n",
       "      <td>18.00</td>\n",
       "      <td>2.70</td>\n",
       "    </tr>\n",
       "    <tr>\n",
       "      <td>75%</td>\n",
       "      <td>352821.00</td>\n",
       "      <td>6293012.00</td>\n",
       "      <td>488670.00</td>\n",
       "      <td>36.00</td>\n",
       "      <td>5.18</td>\n",
       "    </tr>\n",
       "    <tr>\n",
       "      <td>max</td>\n",
       "      <td>384027.00</td>\n",
       "      <td>6397457.00</td>\n",
       "      <td>1894494.00</td>\n",
       "      <td>242985.00</td>\n",
       "      <td>1696285.44</td>\n",
       "    </tr>\n",
       "  </tbody>\n",
       "</table>\n",
       "</div>"
      ],
      "text/plain": [
       "          UserId  TransactionId    ItemCode  NumberOfItemsPurchased  \\\n",
       "count  793006.00      793006.00   793006.00               793006.00   \n",
       "mean   321328.57     6166807.72   645810.04                   39.13   \n",
       "std     35905.64      144168.77   432821.20                  542.11   \n",
       "min    259266.00     5900015.00       42.00                    3.00   \n",
       "25%    293475.00     6041585.00   462567.00                    6.00   \n",
       "50%    318339.00     6180823.00   475986.00                   18.00   \n",
       "75%    352821.00     6293012.00   488670.00                   36.00   \n",
       "max    384027.00     6397457.00  1894494.00               242985.00   \n",
       "\n",
       "       CostPerItem  \n",
       "count    793006.00  \n",
       "mean          8.26  \n",
       "std        2693.86  \n",
       "min           0.00  \n",
       "25%           1.73  \n",
       "50%           2.70  \n",
       "75%           5.18  \n",
       "max     1696285.44  "
      ]
     },
     "execution_count": 17,
     "metadata": {},
     "output_type": "execute_result"
    }
   ],
   "source": [
    "df_new.describe().round(2)"
   ]
  },
  {
   "cell_type": "code",
   "execution_count": 18,
   "metadata": {},
   "outputs": [
    {
     "name": "stderr",
     "output_type": "stream",
     "text": [
      "D:\\pyt\\lib\\site-packages\\ipykernel_launcher.py:2: SettingWithCopyWarning: \n",
      "A value is trying to be set on a copy of a slice from a DataFrame.\n",
      "Try using .loc[row_indexer,col_indexer] = value instead\n",
      "\n",
      "See the caveats in the documentation: http://pandas.pydata.org/pandas-docs/stable/user_guide/indexing.html#returning-a-view-versus-a-copy\n",
      "  \n"
     ]
    }
   ],
   "source": [
    "#Add the column - amount_spent\n",
    "df_new['amount_spent'] = df_new['NumberOfItemsPurchased'] * df_new['CostPerItem']"
   ]
  },
  {
   "cell_type": "code",
   "execution_count": 19,
   "metadata": {},
   "outputs": [],
   "source": [
    "#Exploratory Data Analysis (EDA)\n",
    "\n",
    "#How many orders made by the users?\n",
    "orders = df_new.groupby(by=['UserId','Country'], as_index=False)['TransactionId'].count()"
   ]
  },
  {
   "cell_type": "code",
   "execution_count": 20,
   "metadata": {},
   "outputs": [
    {
     "data": {
      "text/html": [
       "<div>\n",
       "<style scoped>\n",
       "    .dataframe tbody tr th:only-of-type {\n",
       "        vertical-align: middle;\n",
       "    }\n",
       "\n",
       "    .dataframe tbody tr th {\n",
       "        vertical-align: top;\n",
       "    }\n",
       "\n",
       "    .dataframe thead th {\n",
       "        text-align: right;\n",
       "    }\n",
       "</style>\n",
       "<table border=\"1\" class=\"dataframe\">\n",
       "  <thead>\n",
       "    <tr style=\"text-align: right;\">\n",
       "      <th></th>\n",
       "      <th>UserId</th>\n",
       "      <th>Country</th>\n",
       "      <th>TransactionId</th>\n",
       "    </tr>\n",
       "  </thead>\n",
       "  <tbody>\n",
       "    <tr>\n",
       "      <td>0</td>\n",
       "      <td>259266</td>\n",
       "      <td>United Kingdom</td>\n",
       "      <td>2</td>\n",
       "    </tr>\n",
       "    <tr>\n",
       "      <td>1</td>\n",
       "      <td>259287</td>\n",
       "      <td>Iceland</td>\n",
       "      <td>364</td>\n",
       "    </tr>\n",
       "    <tr>\n",
       "      <td>2</td>\n",
       "      <td>259308</td>\n",
       "      <td>Finland</td>\n",
       "      <td>54</td>\n",
       "    </tr>\n",
       "    <tr>\n",
       "      <td>3</td>\n",
       "      <td>259329</td>\n",
       "      <td>Italy</td>\n",
       "      <td>144</td>\n",
       "    </tr>\n",
       "    <tr>\n",
       "      <td>4</td>\n",
       "      <td>259350</td>\n",
       "      <td>Norway</td>\n",
       "      <td>32</td>\n",
       "    </tr>\n",
       "  </tbody>\n",
       "</table>\n",
       "</div>"
      ],
      "text/plain": [
       "   UserId         Country  TransactionId\n",
       "0  259266  United Kingdom              2\n",
       "1  259287         Iceland            364\n",
       "2  259308         Finland             54\n",
       "3  259329           Italy            144\n",
       "4  259350          Norway             32"
      ]
     },
     "execution_count": 20,
     "metadata": {},
     "output_type": "execute_result"
    }
   ],
   "source": [
    "orders.head()"
   ]
  },
  {
   "cell_type": "code",
   "execution_count": 21,
   "metadata": {},
   "outputs": [
    {
     "data": {
      "image/png": "[encoded data removed]",
      "text/plain": [
       "<Figure size 1080x432 with 1 Axes>"
      ]
     },
     "metadata": {
      "needs_background": "light"
     },
     "output_type": "display_data"
    }
   ],
   "source": [
    "plt.subplots(figsize=(15,6))\n",
    "plt.plot(orders.UserId, orders.TransactionId)\n",
    "plt.xlabel('USER ID')\n",
    "plt.ylabel('Number of Orders')\n",
    "plt.title('Number of Orders for different Users')\n",
    "plt.show()"
   ]
  },
  {
   "cell_type": "code",
   "execution_count": 22,
   "metadata": {},
   "outputs": [
    {
     "name": "stdout",
     "output_type": "stream",
     "text": [
      "The TOP 5 users with most number of orders...\n"
     ]
    },
    {
     "data": {
      "text/html": [
       "<div>\n",
       "<style scoped>\n",
       "    .dataframe tbody tr th:only-of-type {\n",
       "        vertical-align: middle;\n",
       "    }\n",
       "\n",
       "    .dataframe tbody tr th {\n",
       "        vertical-align: top;\n",
       "    }\n",
       "\n",
       "    .dataframe thead th {\n",
       "        text-align: right;\n",
       "    }\n",
       "</style>\n",
       "<table border=\"1\" class=\"dataframe\">\n",
       "  <thead>\n",
       "    <tr style=\"text-align: right;\">\n",
       "      <th></th>\n",
       "      <th>UserId</th>\n",
       "      <th>Country</th>\n",
       "      <th>TransactionId</th>\n",
       "    </tr>\n",
       "  </thead>\n",
       "  <tbody>\n",
       "    <tr>\n",
       "      <td>4016</td>\n",
       "      <td>374661</td>\n",
       "      <td>United Kingdom</td>\n",
       "      <td>15676</td>\n",
       "    </tr>\n",
       "    <tr>\n",
       "      <td>1888</td>\n",
       "      <td>313131</td>\n",
       "      <td>EIRE</td>\n",
       "      <td>11350</td>\n",
       "    </tr>\n",
       "    <tr>\n",
       "      <td>1298</td>\n",
       "      <td>296016</td>\n",
       "      <td>United Kingdom</td>\n",
       "      <td>10190</td>\n",
       "    </tr>\n",
       "    <tr>\n",
       "      <td>334</td>\n",
       "      <td>267708</td>\n",
       "      <td>United Kingdom</td>\n",
       "      <td>9160</td>\n",
       "    </tr>\n",
       "    <tr>\n",
       "      <td>1670</td>\n",
       "      <td>306726</td>\n",
       "      <td>United Kingdom</td>\n",
       "      <td>5394</td>\n",
       "    </tr>\n",
       "  </tbody>\n",
       "</table>\n",
       "</div>"
      ],
      "text/plain": [
       "      UserId         Country  TransactionId\n",
       "4016  374661  United Kingdom          15676\n",
       "1888  313131            EIRE          11350\n",
       "1298  296016  United Kingdom          10190\n",
       "334   267708  United Kingdom           9160\n",
       "1670  306726  United Kingdom           5394"
      ]
     },
     "execution_count": 22,
     "metadata": {},
     "output_type": "execute_result"
    }
   ],
   "source": [
    "#Check TOP 5 most number of orders\n",
    "print('The TOP 5 users with most number of orders...')\n",
    "orders.sort_values(by='TransactionId', ascending=False).head()"
   ]
  },
  {
   "cell_type": "code",
   "execution_count": 23,
   "metadata": {},
   "outputs": [
    {
     "data": {
      "image/png": "[encoded data removed]",
      "text/plain": [
       "<Figure size 1080x432 with 1 Axes>"
      ]
     },
     "metadata": {
      "needs_background": "light"
     },
     "output_type": "display_data"
    }
   ],
   "source": [
    "#How much money spent by the users?\n",
    "\n",
    "money_spent = df_new.groupby(by=['UserId','Country'], as_index=False)['amount_spent'].sum()\n",
    "\n",
    "plt.subplots(figsize=(15,6))\n",
    "plt.plot(money_spent.UserId, money_spent.amount_spent)\n",
    "plt.xlabel('User ID')\n",
    "plt.ylabel('Money spent')\n",
    "plt.title('Money Spent for different Users')\n",
    "plt.show()"
   ]
  },
  {
   "cell_type": "code",
   "execution_count": 24,
   "metadata": {},
   "outputs": [
    {
     "name": "stdout",
     "output_type": "stream",
     "text": [
      "The TOP 5 customers with highest money spent...\n"
     ]
    },
    {
     "data": {
      "text/html": [
       "<div>\n",
       "<style scoped>\n",
       "    .dataframe tbody tr th:only-of-type {\n",
       "        vertical-align: middle;\n",
       "    }\n",
       "\n",
       "    .dataframe tbody tr th {\n",
       "        vertical-align: top;\n",
       "    }\n",
       "\n",
       "    .dataframe thead th {\n",
       "        text-align: right;\n",
       "    }\n",
       "</style>\n",
       "<table border=\"1\" class=\"dataframe\">\n",
       "  <thead>\n",
       "    <tr style=\"text-align: right;\">\n",
       "      <th></th>\n",
       "      <th>UserId</th>\n",
       "      <th>Country</th>\n",
       "      <th>amount_spent</th>\n",
       "    </tr>\n",
       "  </thead>\n",
       "  <tbody>\n",
       "    <tr>\n",
       "      <td>1046</td>\n",
       "      <td>288687</td>\n",
       "      <td>United Kingdom</td>\n",
       "      <td>81421701.12</td>\n",
       "    </tr>\n",
       "    <tr>\n",
       "      <td>1698</td>\n",
       "      <td>307566</td>\n",
       "      <td>Netherlands</td>\n",
       "      <td>2317587.90</td>\n",
       "    </tr>\n",
       "    <tr>\n",
       "      <td>4206</td>\n",
       "      <td>380142</td>\n",
       "      <td>United Kingdom</td>\n",
       "      <td>2152388.16</td>\n",
       "    </tr>\n",
       "    <tr>\n",
       "      <td>3734</td>\n",
       "      <td>366450</td>\n",
       "      <td>United Kingdom</td>\n",
       "      <td>1613145.84</td>\n",
       "    </tr>\n",
       "    <tr>\n",
       "      <td>3015</td>\n",
       "      <td>345366</td>\n",
       "      <td>United Kingdom</td>\n",
       "      <td>1399617.66</td>\n",
       "    </tr>\n",
       "  </tbody>\n",
       "</table>\n",
       "</div>"
      ],
      "text/plain": [
       "      UserId         Country  amount_spent\n",
       "1046  288687  United Kingdom   81421701.12\n",
       "1698  307566     Netherlands    2317587.90\n",
       "4206  380142  United Kingdom    2152388.16\n",
       "3734  366450  United Kingdom    1613145.84\n",
       "3015  345366  United Kingdom    1399617.66"
      ]
     },
     "execution_count": 24,
     "metadata": {},
     "output_type": "execute_result"
    }
   ],
   "source": [
    "#Check TOP 5 highest money spent\n",
    "print('The TOP 5 customers with highest money spent...')\n",
    "money_spent.sort_values(by='amount_spent', ascending=False).head()"
   ]
  },
  {
   "cell_type": "code",
   "execution_count": 25,
   "metadata": {},
   "outputs": [
    {
     "data": {
      "text/plain": [
       "count    7.930060e+05\n",
       "mean     8.263217e+00\n",
       "std      2.693863e+03\n",
       "min      0.000000e+00\n",
       "25%      1.730000e+00\n",
       "50%      2.700000e+00\n",
       "75%      5.180000e+00\n",
       "max      1.696285e+06\n",
       "Name: CostPerItem, dtype: float64"
      ]
     },
     "execution_count": 25,
     "metadata": {},
     "output_type": "execute_result"
    }
   ],
   "source": [
    "#Discover patterns for CostPerItem\n",
    "df_new.CostPerItem.describe()"
   ]
  },
  {
   "cell_type": "code",
   "execution_count": 26,
   "metadata": {},
   "outputs": [
    {
     "data": {
      "image/png": "[encoded data removed]",
      "text/plain": [
       "<Figure size 864x432 with 1 Axes>"
      ]
     },
     "metadata": {
      "needs_background": "light"
     },
     "output_type": "display_data"
    }
   ],
   "source": [
    "# check the distribution of CostPerItem\n",
    "plt.subplots(figsize=(12,6))\n",
    "sns.boxplot(df_new.CostPerItem)\n",
    "plt.show()"
   ]
  },
  {
   "cell_type": "code",
   "execution_count": 27,
   "metadata": {},
   "outputs": [],
   "source": [
    "#We see that there are CostPerItem = 0 (FREE items)\n",
    "df_free = df_new[df_new.CostPerItem == 0]"
   ]
  },
  {
   "cell_type": "code",
   "execution_count": 28,
   "metadata": {},
   "outputs": [
    {
     "data": {
      "text/html": [
       "<div>\n",
       "<style scoped>\n",
       "    .dataframe tbody tr th:only-of-type {\n",
       "        vertical-align: middle;\n",
       "    }\n",
       "\n",
       "    .dataframe tbody tr th {\n",
       "        vertical-align: top;\n",
       "    }\n",
       "\n",
       "    .dataframe thead th {\n",
       "        text-align: right;\n",
       "    }\n",
       "</style>\n",
       "<table border=\"1\" class=\"dataframe\">\n",
       "  <thead>\n",
       "    <tr style=\"text-align: right;\">\n",
       "      <th></th>\n",
       "      <th>UserId</th>\n",
       "      <th>TransactionId</th>\n",
       "      <th>TransactionTime</th>\n",
       "      <th>ItemCode</th>\n",
       "      <th>ItemDescription</th>\n",
       "      <th>NumberOfItemsPurchased</th>\n",
       "      <th>CostPerItem</th>\n",
       "      <th>Country</th>\n",
       "      <th>amount_spent</th>\n",
       "    </tr>\n",
       "  </thead>\n",
       "  <tbody>\n",
       "    <tr>\n",
       "      <td>5544</td>\n",
       "      <td>274701</td>\n",
       "      <td>6331369</td>\n",
       "      <td>Tue Jan 22 07:49:00 IST 2019</td>\n",
       "      <td>463869.0</td>\n",
       "      <td>paper bunting vintage paisley</td>\n",
       "      <td>72.0</td>\n",
       "      <td>0.0</td>\n",
       "      <td>United Kingdom</td>\n",
       "      <td>0.0</td>\n",
       "    </tr>\n",
       "    <tr>\n",
       "      <td>5623</td>\n",
       "      <td>307566</td>\n",
       "      <td>6211161</td>\n",
       "      <td>Wed Nov 07 10:19:00 IST 2018</td>\n",
       "      <td>457506.0</td>\n",
       "      <td>polkadot rain hat</td>\n",
       "      <td>432.0</td>\n",
       "      <td>0.0</td>\n",
       "      <td>Netherlands</td>\n",
       "      <td>0.0</td>\n",
       "    </tr>\n",
       "    <tr>\n",
       "      <td>40452</td>\n",
       "      <td>302610</td>\n",
       "      <td>6037581</td>\n",
       "      <td>Sat Jun 16 10:42:00 IST 2018</td>\n",
       "      <td>465402.0</td>\n",
       "      <td>heart garland rustic padded</td>\n",
       "      <td>6.0</td>\n",
       "      <td>0.0</td>\n",
       "      <td>United Kingdom</td>\n",
       "      <td>0.0</td>\n",
       "    </tr>\n",
       "    <tr>\n",
       "      <td>55106</td>\n",
       "      <td>353178</td>\n",
       "      <td>6174124</td>\n",
       "      <td>Sun Oct 07 08:24:00 IST 2018</td>\n",
       "      <td>465507.0</td>\n",
       "      <td>oval wall mirror diamante</td>\n",
       "      <td>3.0</td>\n",
       "      <td>0.0</td>\n",
       "      <td>United Kingdom</td>\n",
       "      <td>0.0</td>\n",
       "    </tr>\n",
       "    <tr>\n",
       "      <td>59739</td>\n",
       "      <td>261324</td>\n",
       "      <td>6350454</td>\n",
       "      <td>Wed Jan 30 09:23:00 IST 2019</td>\n",
       "      <td>491547.0</td>\n",
       "      <td>set of 2 trays home sweet home</td>\n",
       "      <td>6.0</td>\n",
       "      <td>0.0</td>\n",
       "      <td>Norway</td>\n",
       "      <td>0.0</td>\n",
       "    </tr>\n",
       "  </tbody>\n",
       "</table>\n",
       "</div>"
      ],
      "text/plain": [
       "       UserId  TransactionId               TransactionTime  ItemCode  \\\n",
       "5544   274701        6331369  Tue Jan 22 07:49:00 IST 2019  463869.0   \n",
       "5623   307566        6211161  Wed Nov 07 10:19:00 IST 2018  457506.0   \n",
       "40452  302610        6037581  Sat Jun 16 10:42:00 IST 2018  465402.0   \n",
       "55106  353178        6174124  Sun Oct 07 08:24:00 IST 2018  465507.0   \n",
       "59739  261324        6350454  Wed Jan 30 09:23:00 IST 2019  491547.0   \n",
       "\n",
       "                      ItemDescription  NumberOfItemsPurchased  CostPerItem  \\\n",
       "5544    paper bunting vintage paisley                    72.0          0.0   \n",
       "5623               polkadot rain hat                    432.0          0.0   \n",
       "40452     heart garland rustic padded                     6.0          0.0   \n",
       "55106      oval wall mirror diamante                      3.0          0.0   \n",
       "59739  set of 2 trays home sweet home                     6.0          0.0   \n",
       "\n",
       "              Country  amount_spent  \n",
       "5544   United Kingdom           0.0  \n",
       "5623      Netherlands           0.0  \n",
       "40452  United Kingdom           0.0  \n",
       "55106  United Kingdom           0.0  \n",
       "59739          Norway           0.0  "
      ]
     },
     "execution_count": 28,
     "metadata": {},
     "output_type": "execute_result"
    }
   ],
   "source": [
    "df_free.head()"
   ]
  },
  {
   "cell_type": "code",
   "execution_count": 29,
   "metadata": {},
   "outputs": [],
   "source": [
    "#Discover patterns for each Country\n",
    "group_country_orders = df_new.groupby('Country')['TransactionId'].count().sort_values()"
   ]
  },
  {
   "cell_type": "code",
   "execution_count": 30,
   "metadata": {},
   "outputs": [
    {
     "name": "stderr",
     "output_type": "stream",
     "text": [
      "D:\\pyt\\lib\\site-packages\\ipykernel_launcher.py:3: FutureWarning: `Series.plot()` should not be called with positional arguments, only keyword arguments. The order of positional arguments will change in the future. Use `Series.plot(kind='barh')` instead of `Series.plot('barh',)`.\n",
      "  This is separate from the ipykernel package so we can avoid doing imports until\n"
     ]
    },
    {
     "data": {
      "image/png": "[encoded data removed]",
      "text/plain": [
       "<Figure size 1080x576 with 1 Axes>"
      ]
     },
     "metadata": {
      "needs_background": "light"
     },
     "output_type": "display_data"
    }
   ],
   "source": [
    "# plot number of unique users in each country \n",
    "plt.subplots(figsize=(15,8))\n",
    "group_country_orders.plot('barh', fontsize=12)\n",
    "plt.xlabel('Number of Orders', fontsize=12)\n",
    "plt.ylabel('Country', fontsize=12)\n",
    "plt.title('Number of Orders for different Countries', fontsize=12)\n",
    "plt.show()"
   ]
  },
  {
   "cell_type": "code",
   "execution_count": 31,
   "metadata": {},
   "outputs": [],
   "source": [
    "#How much money spent by each country?\n",
    "group_country_amount_spent = df_new.groupby('Country')['amount_spent'].sum().sort_values()"
   ]
  },
  {
   "cell_type": "code",
   "execution_count": 32,
   "metadata": {},
   "outputs": [
    {
     "name": "stderr",
     "output_type": "stream",
     "text": [
      "D:\\pyt\\lib\\site-packages\\ipykernel_launcher.py:3: FutureWarning: `Series.plot()` should not be called with positional arguments, only keyword arguments. The order of positional arguments will change in the future. Use `Series.plot(kind='barh')` instead of `Series.plot('barh',)`.\n",
      "  This is separate from the ipykernel package so we can avoid doing imports until\n"
     ]
    },
    {
     "data": {
      "image/png": "[encoded data removed]",
      "text/plain": [
       "<Figure size 1080x576 with 1 Axes>"
      ]
     },
     "metadata": {
      "needs_background": "light"
     },
     "output_type": "display_data"
    }
   ],
   "source": [
    "# plot total money spent by each country \n",
    "plt.subplots(figsize=(15,8))\n",
    "group_country_amount_spent.plot('barh', fontsize=12)\n",
    "plt.xlabel('Money Spent', fontsize=12)\n",
    "plt.ylabel('Country', fontsize=12)\n",
    "plt.title('Money Spent by different Countries', fontsize=12)\n",
    "plt.show()"
   ]
  },
  {
   "cell_type": "code",
   "execution_count": 33,
   "metadata": {},
   "outputs": [
    {
     "name": "stderr",
     "output_type": "stream",
     "text": [
      "D:\\pyt\\lib\\site-packages\\ipykernel_launcher.py:2: SettingWithCopyWarning: \n",
      "A value is trying to be set on a copy of a slice from a DataFrame.\n",
      "Try using .loc[row_indexer,col_indexer] = value instead\n",
      "\n",
      "See the caveats in the documentation: http://pandas.pydata.org/pandas-docs/stable/user_guide/indexing.html#returning-a-view-versus-a-copy\n",
      "  \n"
     ]
    }
   ],
   "source": [
    "# change the TransactionDate format - String to Timestamp format\n",
    "df_new['TransactionTime'] = pd.to_datetime(df.TransactionTime, format='%a %b %d %H:%M:%S IST %Y')"
   ]
  },
  {
   "cell_type": "code",
   "execution_count": 34,
   "metadata": {},
   "outputs": [],
   "source": [
    "from datetime import datetime"
   ]
  },
  {
   "cell_type": "code",
   "execution_count": 35,
   "metadata": {},
   "outputs": [],
   "source": [
    "#Add the columns - Month, Day and Hour for the invoice\n",
    "\n",
    "df_new.insert(loc=3, column='year_month', value=df_new['TransactionTime'].map(lambda x: 100*x.year + x.month))\n",
    "df_new.insert(loc=4, column='month', value=df_new.TransactionTime.dt.month)\n",
    "# +1 to make Monday=1.....until Sunday=7\n",
    "df_new.insert(loc=5, column='day', value=(df_new.TransactionTime.dt.dayofweek)+1)\n",
    "df_new.insert(loc=6, column='hour', value=df_new.TransactionTime.dt.hour)"
   ]
  },
  {
   "cell_type": "code",
   "execution_count": 36,
   "metadata": {},
   "outputs": [
    {
     "data": {
      "text/html": [
       "<div>\n",
       "<style scoped>\n",
       "    .dataframe tbody tr th:only-of-type {\n",
       "        vertical-align: middle;\n",
       "    }\n",
       "\n",
       "    .dataframe tbody tr th {\n",
       "        vertical-align: top;\n",
       "    }\n",
       "\n",
       "    .dataframe thead th {\n",
       "        text-align: right;\n",
       "    }\n",
       "</style>\n",
       "<table border=\"1\" class=\"dataframe\">\n",
       "  <thead>\n",
       "    <tr style=\"text-align: right;\">\n",
       "      <th></th>\n",
       "      <th>UserId</th>\n",
       "      <th>TransactionId</th>\n",
       "      <th>TransactionTime</th>\n",
       "      <th>year_month</th>\n",
       "      <th>month</th>\n",
       "      <th>day</th>\n",
       "      <th>hour</th>\n",
       "      <th>ItemCode</th>\n",
       "      <th>ItemDescription</th>\n",
       "      <th>NumberOfItemsPurchased</th>\n",
       "      <th>CostPerItem</th>\n",
       "      <th>Country</th>\n",
       "      <th>amount_spent</th>\n",
       "    </tr>\n",
       "  </thead>\n",
       "  <tbody>\n",
       "    <tr>\n",
       "      <td>0</td>\n",
       "      <td>278166</td>\n",
       "      <td>6355745</td>\n",
       "      <td>2019-02-02 12:50:00</td>\n",
       "      <td>201902</td>\n",
       "      <td>2</td>\n",
       "      <td>6</td>\n",
       "      <td>12</td>\n",
       "      <td>465549.0</td>\n",
       "      <td>family album white picture frame</td>\n",
       "      <td>6.0</td>\n",
       "      <td>11.73</td>\n",
       "      <td>United Kingdom</td>\n",
       "      <td>70.38</td>\n",
       "    </tr>\n",
       "    <tr>\n",
       "      <td>1</td>\n",
       "      <td>337701</td>\n",
       "      <td>6283376</td>\n",
       "      <td>2018-12-26 09:06:00</td>\n",
       "      <td>201812</td>\n",
       "      <td>12</td>\n",
       "      <td>3</td>\n",
       "      <td>9</td>\n",
       "      <td>482370.0</td>\n",
       "      <td>london bus coffee mug</td>\n",
       "      <td>3.0</td>\n",
       "      <td>3.52</td>\n",
       "      <td>United Kingdom</td>\n",
       "      <td>10.56</td>\n",
       "    </tr>\n",
       "    <tr>\n",
       "      <td>2</td>\n",
       "      <td>267099</td>\n",
       "      <td>6385599</td>\n",
       "      <td>2019-02-15 09:45:00</td>\n",
       "      <td>201902</td>\n",
       "      <td>2</td>\n",
       "      <td>5</td>\n",
       "      <td>9</td>\n",
       "      <td>490728.0</td>\n",
       "      <td>set 12 colour pencils dolly girl</td>\n",
       "      <td>72.0</td>\n",
       "      <td>0.90</td>\n",
       "      <td>France</td>\n",
       "      <td>64.80</td>\n",
       "    </tr>\n",
       "    <tr>\n",
       "      <td>3</td>\n",
       "      <td>380478</td>\n",
       "      <td>6044973</td>\n",
       "      <td>2018-06-22 07:14:00</td>\n",
       "      <td>201806</td>\n",
       "      <td>6</td>\n",
       "      <td>5</td>\n",
       "      <td>7</td>\n",
       "      <td>459186.0</td>\n",
       "      <td>union jack flag luggage tag</td>\n",
       "      <td>3.0</td>\n",
       "      <td>1.73</td>\n",
       "      <td>United Kingdom</td>\n",
       "      <td>5.19</td>\n",
       "    </tr>\n",
       "    <tr>\n",
       "      <td>5</td>\n",
       "      <td>285957</td>\n",
       "      <td>6307136</td>\n",
       "      <td>2019-01-11 09:50:00</td>\n",
       "      <td>201901</td>\n",
       "      <td>1</td>\n",
       "      <td>5</td>\n",
       "      <td>9</td>\n",
       "      <td>1787247.0</td>\n",
       "      <td>cut glass t-light holder octagon</td>\n",
       "      <td>12.0</td>\n",
       "      <td>3.52</td>\n",
       "      <td>United Kingdom</td>\n",
       "      <td>42.24</td>\n",
       "    </tr>\n",
       "  </tbody>\n",
       "</table>\n",
       "</div>"
      ],
      "text/plain": [
       "   UserId  TransactionId     TransactionTime  year_month  month  day  hour  \\\n",
       "0  278166        6355745 2019-02-02 12:50:00      201902      2    6    12   \n",
       "1  337701        6283376 2018-12-26 09:06:00      201812     12    3     9   \n",
       "2  267099        6385599 2019-02-15 09:45:00      201902      2    5     9   \n",
       "3  380478        6044973 2018-06-22 07:14:00      201806      6    5     7   \n",
       "5  285957        6307136 2019-01-11 09:50:00      201901      1    5     9   \n",
       "\n",
       "    ItemCode                    ItemDescription  NumberOfItemsPurchased  \\\n",
       "0   465549.0   family album white picture frame                     6.0   \n",
       "1   482370.0              london bus coffee mug                     3.0   \n",
       "2   490728.0  set 12 colour pencils dolly girl                     72.0   \n",
       "3   459186.0        union jack flag luggage tag                     3.0   \n",
       "5  1787247.0   cut glass t-light holder octagon                    12.0   \n",
       "\n",
       "   CostPerItem         Country  amount_spent  \n",
       "0        11.73  United Kingdom         70.38  \n",
       "1         3.52  United Kingdom         10.56  \n",
       "2         0.90          France         64.80  \n",
       "3         1.73  United Kingdom          5.19  \n",
       "5         3.52  United Kingdom         42.24  "
      ]
     },
     "execution_count": 36,
     "metadata": {},
     "output_type": "execute_result"
    }
   ],
   "source": [
    "df_new.head()"
   ]
  },
  {
   "cell_type": "code",
   "execution_count": 37,
   "metadata": {},
   "outputs": [
    {
     "name": "stderr",
     "output_type": "stream",
     "text": [
      "D:\\pyt\\lib\\site-packages\\ipykernel_launcher.py:1: FutureWarning: `Series.plot()` should not be called with positional arguments, only keyword arguments. The order of positional arguments will change in the future. Use `Series.plot(kind='bar')` instead of `Series.plot('bar',)`.\n",
      "  \"\"\"Entry point for launching an IPython kernel.\n"
     ]
    },
    {
     "data": {
      "image/png": "[encoded data removed]",
      "text/plain": [
       "<Figure size 1080x432 with 1 Axes>"
      ]
     },
     "metadata": {
      "needs_background": "light"
     },
     "output_type": "display_data"
    }
   ],
   "source": [
    "#orders (per month)\n",
    "ax = df_new.groupby('TransactionId')['year_month'].unique().value_counts().sort_index().plot('bar',figsize=(15,6))\n",
    "ax.set_xlabel('Month',fontsize=15)\n",
    "ax.set_ylabel('Number of Orders',fontsize=15)\n",
    "plt.show()"
   ]
  },
  {
   "cell_type": "code",
   "execution_count": 39,
   "metadata": {},
   "outputs": [
    {
     "name": "stderr",
     "output_type": "stream",
     "text": [
      "D:\\pyt\\lib\\site-packages\\ipykernel_launcher.py:3: FutureWarning: `Series.plot()` should not be called with positional arguments, only keyword arguments. The order of positional arguments will change in the future. Use `Series.plot(kind='bar')` instead of `Series.plot('bar',)`.\n",
      "  This is separate from the ipykernel package so we can avoid doing imports until\n"
     ]
    },
    {
     "data": {
      "image/png": "[encoded data removed]",
      "text/plain": [
       "<Figure size 1080x432 with 1 Axes>"
      ]
     },
     "metadata": {
      "needs_background": "light"
     },
     "output_type": "display_data"
    }
   ],
   "source": [
    "# orders (per day)\n",
    "\n",
    "ax = df_new.groupby('TransactionId')['day'].unique().value_counts().sort_index().plot('bar',figsize=(15,6))\n",
    "ax.set_xlabel('Day',fontsize=15)\n",
    "ax.set_ylabel('Number of Orders',fontsize=15)\n",
    "ax.set_title('Number of orders for different Days',fontsize=15)\n",
    "ax.set_xticklabels(('Mon','Tue','Wed','Thur','Fri','Sun'), rotation='horizontal', fontsize=15)\n",
    "plt.show()"
   ]
  },
  {
   "cell_type": "code",
   "execution_count": 43,
   "metadata": {},
   "outputs": [
    {
     "name": "stderr",
     "output_type": "stream",
     "text": [
      "D:\\pyt\\lib\\site-packages\\ipykernel_launcher.py:3: FutureWarning: `Series.plot()` should not be called with positional arguments, only keyword arguments. The order of positional arguments will change in the future. Use `Series.plot(kind='bar')` instead of `Series.plot('bar',)`.\n",
      "  This is separate from the ipykernel package so we can avoid doing imports until\n"
     ]
    },
    {
     "data": {
      "image/png": "[encoded data removed]",
      "text/plain": [
       "<Figure size 1080x432 with 1 Axes>"
      ]
     },
     "metadata": {
      "needs_background": "light"
     },
     "output_type": "display_data"
    }
   ],
   "source": [
    "# orders (per hour)\n",
    "\n",
    "ax = df_new.groupby('TransactionId')['hour'].unique().value_counts().iloc[:-1].sort_index().plot('bar',figsize=(15,6))\n",
    "ax.set_xlabel('Hour',fontsize=15)\n",
    "ax.set_ylabel('Number of Orders',fontsize=15)\n",
    "ax.set_title('Number of orders for different Hours',fontsize=15)\n",
    "ax.set_xticklabels(range(6,21), rotation='horizontal', fontsize=15)\n",
    "plt.show()"
   ]
  },
  {
   "cell_type": "code",
   "execution_count": null,
   "metadata": {},
   "outputs": [],
   "source": []
  }
 ],
 "metadata": {
  "kernelspec": {
   "display_name": "Python 3",
   "language": "python",
   "name": "python3"
  },
  "language_info": {
   "codemirror_mode": {
    "name": "ipython",
    "version": 3
   },
   "file_extension": ".py",
   "mimetype": "text/x-python",
   "name": "python",
   "nbconvert_exporter": "python",
   "pygments_lexer": "ipython3",
   "version": "3.7.4"
  }
 },
 "nbformat": 4,
 "nbformat_minor": 2
}
